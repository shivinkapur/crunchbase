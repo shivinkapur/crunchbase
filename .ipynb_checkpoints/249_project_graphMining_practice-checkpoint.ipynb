{
 "metadata": {
  "name": ""
 },
 "nbformat": 3,
 "nbformat_minor": 0,
 "worksheets": [
  {
   "cells": [
    {
     "cell_type": "code",
     "collapsed": false,
     "input": [
      "%load_ext rmagic\n",
      "import rpy2 as Rpy"
     ],
     "language": "python",
     "metadata": {},
     "outputs": [],
     "prompt_number": 1
    },
    {
     "cell_type": "code",
     "collapsed": false,
     "input": [
      "%%R \n",
      "\n",
      "investments=read.csv(\"/Users/Work/Documents/CS249/project/crunchbase/Data/investments.csv\", header=TRUE)\n",
      "investments=na.omit(investments)\n",
      "\n",
      "print(head(investments))\n",
      "print(dim(investments))"
     ],
     "language": "python",
     "metadata": {},
     "outputs": [
      {
       "metadata": {},
       "output_type": "display_data",
       "text": [
        "            company_permalink       company_name company_category_code\n",
        "1 /company/tokita-investments Tokita Investments            consulting\n",
        "2           /company/advercar           AdverCar           advertising\n",
        "3         /company/launchgram         LaunchGram                  news\n",
        "4               /company/utap               uTaP             messaging\n",
        "5           /company/zoopshop           ZoopShop              software\n",
        "6           /company/efuneral           eFuneral                   web\n",
        "  company_country_code company_state_code company_region  company_city\n",
        "1                  JPN                               TBD   Okinawa Ken\n",
        "2                  USA                 CA         SF Bay San Francisco\n",
        "3                  USA                 CA         SF Bay Mountain View\n",
        "4                  USA                 OH       Columbus      Columbus\n",
        "5                  USA                 OH       Columbus      columbus\n",
        "6                  USA                 OH      Cleveland     Cleveland\n",
        "          investor_permalink     investor_name investor_category_code\n",
        "1        /company/01startups        01Startups                       \n",
        "2 /company/1-800-flowers-com 1-800-FLOWERS.COM              ecommerce\n",
        "3       /company/10xelerator       10Xelerator                finance\n",
        "4       /company/10xelerator       10Xelerator                finance\n",
        "5       /company/10xelerator       10Xelerator                finance\n",
        "6       /company/10xelerator       10Xelerator                finance\n",
        "  investor_country_code investor_state_code investor_region investor_city\n",
        "1                                                   unknown              \n",
        "2                   USA                  NY        New York      New York\n",
        "3                   USA                  OH        Columbus      Columbus\n",
        "4                   USA                  OH        Columbus      Columbus\n",
        "5                   USA                  OH        Columbus      Columbus\n",
        "6                   USA                  OH        Columbus      Columbus\n",
        "  funding_round_type funded_at funded_month funded_quarter funded_year\n",
        "1              angel   9/26/13      2013-09        2013-Q3        2013\n",
        "2           series-a  10/30/12      2012-10        2012-Q4        2012\n",
        "3              other   1/23/12      2012-01        2012-Q1        2012\n",
        "4              other    1/1/12      2012-01        2012-Q1        2012\n",
        "5              angel   2/15/12      2012-02        2012-Q1        2012\n",
        "6              other    9/8/11      2011-09        2011-Q3        2011\n",
        "  raised_amount_usd\n",
        "1             5,000\n",
        "2         2,000,000\n",
        "3            20,000\n",
        "4            20,000\n",
        "5            20,000\n",
        "6            20,000\n",
        "[1] 90281    20\n"
       ]
      }
     ],
     "prompt_number": 2
    },
    {
     "cell_type": "code",
     "collapsed": false,
     "input": [
      "%%R\n",
      "\n",
      "#making adjaceny matrix for investors with weight edges being common companies invested\n",
      "#library(reshape)\n",
      "\n",
      "company_investor=data.frame(investments$company_name, investments$investor_name)\n",
      "colnames(company_investor)=c(\"company\", \"investor\")\n",
      "company_investor$hasInvested=rep(1, nrow(company_investor))\n",
      "\n",
      "print(head(company_investor))\n",
      "\n",
      "print(dim(company_investor))\n",
      "print(length(unique(company_investor$company)))\n",
      "print(length(unique(company_investor$investor)))"
     ],
     "language": "python",
     "metadata": {},
     "outputs": [
      {
       "metadata": {},
       "output_type": "display_data",
       "text": [
        "Loading required package: plyr\n",
        "\n",
        "Attaching package: \u2018reshape\u2019\n",
        "\n",
        "The following objects are masked from \u2018package:plyr\u2019:\n",
        "\n",
        "    rename, round_any\n",
        "\n",
        "             company          investor hasInvested\n",
        "1 Tokita Investments        01Startups           1\n",
        "2           AdverCar 1-800-FLOWERS.COM           1\n",
        "3         LaunchGram       10Xelerator           1\n",
        "4               uTaP       10Xelerator           1\n",
        "5           ZoopShop       10Xelerator           1\n",
        "6           eFuneral       10Xelerator           1\n",
        "[1] 90281     3\n",
        "[1] 25326\n",
        "[1] 18560\n"
       ]
      }
     ],
     "prompt_number": 3
    },
    {
     "cell_type": "code",
     "collapsed": false,
     "input": [
      "%%R\n",
      "\n",
      "company_names1=unique(company_investor$company)[1:5065]\n",
      "company_names2=unique(company_investor$company)[5066:10130]\n",
      "company_names3=unique(company_investor$company)[10131:15196]\n",
      "company_names4=unique(company_investor$company)[15197:20262]\n",
      "company_names5=unique(company_investor$company)[20263:25326]\n",
      "\n",
      "company_investor1=subset(company_investor, company %in% company_names1)\n",
      "company_investor2=subset(company_investor, company %in% company_names2)\n",
      "company_investor3=subset(company_investor, company %in% company_names3)\n",
      "company_investor4=subset(company_investor, company %in% company_names4)\n",
      "company_investor5=subset(company_investor, company %in% company_names5)\n",
      "\n",
      "print(\"1\")\n",
      "print(dim(company_investor1))\n",
      "print(length(unique(company_investor1$company)))\n",
      "print(length(unique(company_investor1$investor)))\n",
      "\n",
      "print(\"2\")\n",
      "print(dim(company_investor2))\n",
      "print(length(unique(company_investor2$company)))\n",
      "print(length(unique(company_investor2$investor)))\n",
      "\n",
      "print(\"3\")\n",
      "print(dim(company_investor3))\n",
      "print(length(unique(company_investor3$company)))\n",
      "print(length(unique(company_investor3$investor)))\n",
      "\n",
      "print(\"4\")\n",
      "print(dim(company_investor4))\n",
      "print(length(unique(company_investor4$company)))\n",
      "print(length(unique(company_investor4$investor)))\n",
      "\n",
      "print(\"5\")\n",
      "print(dim(company_investor5))\n",
      "print(length(unique(company_investor5$company)))\n",
      "print(length(unique(company_investor5$investor)))\n",
      "\n",
      "\n",
      "write.csv(company_investor1, \"company_investor1.csv\")\n",
      "write.csv(company_investor2, \"company_investor2.csv\")\n",
      "write.csv(company_investor1, \"company_investor3.csv\")\n",
      "write.csv(company_investor2, \"company_investor4.csv\")\n",
      "write.csv(company_investor1, \"company_investor5.csv\")"
     ],
     "language": "python",
     "metadata": {},
     "outputs": [
      {
       "metadata": {},
       "output_type": "display_data",
       "text": [
        "[1] \"1\"\n",
        "[1] 23361     3\n",
        "[1] 5065\n",
        "[1] 7964\n",
        "[1] \"2\"\n",
        "[1] 26360     3\n",
        "[1] 5065\n",
        "[1] 5934\n",
        "[1] \"3\"\n",
        "[1] 20183     3\n",
        "[1] 5066\n",
        "[1] 5148\n",
        "[1] \"4\"\n",
        "[1] 12156     3\n",
        "[1] 5066\n",
        "[1] 3618\n",
        "[1] \"5\"\n",
        "[1] 8221    3\n",
        "[1] 5064\n",
        "[1] 4242\n"
       ]
      }
     ],
     "prompt_number": 17
    },
    {
     "cell_type": "code",
     "collapsed": false,
     "input": [
      "import pandas as pd"
     ],
     "language": "python",
     "metadata": {},
     "outputs": [],
     "prompt_number": 24
    },
    {
     "cell_type": "code",
     "collapsed": false,
     "input": [
      "#run for all 1 to 5 csv files\n",
      "company_investor1=pd.read_csv(\"/Users/Work/Documents/CS249/project/company_investor1.csv\")\n",
      "company_investor1_wide=company_investor1.pivot_table('hasInvested', rows='investor', cols='company')\n",
      "company_investor1_wide=company_investor1_wide.replace(np.nan, '0')\n",
      "company_investor1_wide.head()\n",
      "company_investor1_wide.to_csv(\"/Users/Work/Documents/CS249/project/company_investor1_wide.csv\")"
     ],
     "language": "python",
     "metadata": {},
     "outputs": [],
     "prompt_number": 27
    },
    {
     "cell_type": "code",
     "collapsed": false,
     "input": [
      "d1=pd.merge(company_investor1_wide, company_investor2_wide, left_index=True, right_index=True, how=\"outer\")\n",
      "print(company_investor1_wide.shape)\n",
      "print(company_investor2_wide.shape)\n",
      "print(d1.shape)\n"
     ],
     "language": "python",
     "metadata": {},
     "outputs": [],
     "prompt_number": "*"
    },
    {
     "cell_type": "code",
     "collapsed": false,
     "input": [
      "%%R\n",
      "\n",
      "#investor_company_wide= cast(company_investor, investor ~ company)\n",
      "#print(head(investor_company_wide))\n",
      "\n",
      "investor_company_wide=merge(company_investor1_wide, company_investor2_wide, company_investor3_wide, company_investor4_wide, company_investor5_wide, by=\"investor\", all=TRUE)\n",
      "\n",
      "write.table(investor_company_wide, file=\"investorCompanyReshape.txt\")\n",
      "\n",
      "x = expand.grid(seq(nrow(investor_company_wide)), seq(nrow(investor_company_wide)))\n",
      "result = mapply(function(m1, m2) sum(investor_company_wide[m1, ]&investor_company_wide[m2, ], na.rm=TRUE)\n",
      "             , x[, 1]\n",
      "             , x[, 2]\n",
      "             )\n",
      "# create the output matrix\n",
      "adjaceny_matrix = matrix(result, nrow = nrow(investor_company_wide), ncol = nrow(investor_company_wide))\n",
      "print(head(adjaceny_matrix))\n",
      "    \n",
      "write.table(adjacency_matrix, file=\"investorsAdjacency.txt\")"
     ],
     "language": "python",
     "metadata": {},
     "outputs": []
    },
    {
     "cell_type": "code",
     "collapsed": false,
     "input": [
      "%%R\n",
      "#igraph\n",
      "#install.packages(\"igraph\")\n",
      "\n",
      "library(igraph)\n",
      "\n",
      "#adjacency= get.adjacency(graph.edgelist(as.matrix(company_investor), directed=FALSE))"
     ],
     "language": "python",
     "metadata": {},
     "outputs": []
    }
   ],
   "metadata": {}
  }
 ]
}