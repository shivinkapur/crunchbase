{
 "metadata": {
  "name": "",
  "signature": "sha256:0944974aa20ad42f3940ec47f47ca653aa157cfd8162d61b9c287394b48af71d"
 },
 "nbformat": 3,
 "nbformat_minor": 0,
 "worksheets": [
  {
   "cells": [
    {
     "cell_type": "code",
     "collapsed": false,
     "input": [
      "%load_ext rmagic\n",
      "import rpy2 as Rpy"
     ],
     "language": "python",
     "metadata": {},
     "outputs": [],
     "prompt_number": 1
    },
    {
     "cell_type": "code",
     "collapsed": false,
     "input": [
      "%%R\n",
      "\n",
      "not.installed = function(package_name)  !is.element(package_name, installed.packages()[,1])\n",
      "\n",
      "if (not.installed(\"RCurl\")) install.packages(\"RCurl\")\n",
      "if (not.installed(\"plyr\")) install.packages(\"plyr\")\n",
      "if (not.installed(\"ggplot2\")) install.packages(\"ggplot2\")"
     ],
     "language": "python",
     "metadata": {},
     "outputs": [
      {
       "output_type": "stream",
       "stream": "stdout",
       "text": [
        "The history saving thread hit an unexpected error (OperationalError('database is locked',)).History will not be written to the database.\n"
       ]
      }
     ],
     "prompt_number": 2
    },
    {
     "cell_type": "code",
     "collapsed": false,
     "input": [
      "%%R\n",
      "library(RCurl)\n",
      "library(plyr)\n",
      "library(ggplot2)"
     ],
     "language": "python",
     "metadata": {},
     "outputs": [
      {
       "metadata": {},
       "output_type": "display_data",
       "text": [
        "Loading required package: bitops\n"
       ]
      }
     ],
     "prompt_number": 3
    },
    {
     "cell_type": "code",
     "collapsed": false,
     "input": [
      "%%R\n",
      "\n",
      "not.installed = function(package_name)  !is.element(package_name, installed.packages()[,1])\n",
      "\n",
      "if (not.installed(\"plot3D\")) install.packages(\"plot3D\")\n",
      "library(plot3D)\n",
      "\n",
      "if (not.installed(\"scatterplot3d\")) install.packages(\"scatterplot3d\")\n",
      "library(scatterplot3d)"
     ],
     "language": "python",
     "metadata": {},
     "outputs": [],
     "prompt_number": 4
    },
    {
     "cell_type": "code",
     "collapsed": false,
     "input": [
      "%%R\n",
      "\n",
      "investments= read.csv('Data/investments.csv')\n",
      "dim(investments)\n",
      "\n",
      "summary(investments)\n",
      "\n",
      "investments=data.frame(investments)\n",
      "summary(investments)"
     ],
     "language": "python",
     "metadata": {},
     "outputs": [
      {
       "metadata": {},
       "output_type": "display_data",
       "text": [
        "                company_permalink          company_name   company_category_code\n",
        " /company/fab-com-2      :   59   Fab            :   59   software  :11842     \n",
        " /company/ecomom         :   58   ecomom         :   58   biotech   : 8043     \n",
        " /company/cardiodx       :   54   CardioDx       :   54   mobile    : 6722     \n",
        " /company/practice-fusion:   53   Practice Fusion:   53   web       : 6556     \n",
        " /company/aperto-networks:   49   Aperto Networks:   49   enterprise: 6489     \n",
        " /company/path           :   49   Path           :   49   ecommerce : 4852     \n",
        " (Other)                 :89961   (Other)        :89961   (Other)   :45779     \n",
        " company_country_code company_state_code     company_region \n",
        " USA    :63235        CA     :32418      SF Bay     :26868  \n",
        " GBR    : 4949               :27459      New York   : 7078  \n",
        "        : 2952        NY     : 7212      Boston     : 5542  \n",
        " CAN    : 2332        MA     : 5651      Los Angeles: 3368  \n",
        " DEU    : 2034        WA     : 2141      unknown    : 3348  \n",
        " CHN    : 1986        TX     : 1946      London     : 2972  \n",
        " (Other):12795        (Other):13456      (Other)    :41107  \n",
        "        company_city  \n",
        " San Francisco:10861  \n",
        " New York     : 6075  \n",
        "              : 5023  \n",
        " Mountain View: 2301  \n",
        " London       : 2142  \n",
        " Palo Alto    : 2141  \n",
        " (Other)      :61740  \n",
        "                                         investor_permalink\n",
        " /financial-organization/sequoia-capital          :  659   \n",
        " /financial-organization/start-up-chile           :  607   \n",
        " /financial-organization/intel-capital            :  571   \n",
        " /financial-organization/new-enterprise-associates:  536   \n",
        " /company/y-combinator                            :  533   \n",
        " /financial-organization/accel-partners           :  523   \n",
        " (Other)                                          :86854   \n",
        "                   investor_name   investor_category_code investor_country_code\n",
        " Sequoia Capital          :  659           :84954         USA    :49321        \n",
        " Start-Up Chile           :  607   finance : 1634                :21045        \n",
        " Intel Capital            :  571   other   :  872         GBR    : 4142        \n",
        " New Enterprise Associates:  536   software:  380         CAN    : 1760        \n",
        " Y Combinator             :  533   biotech :  288         DEU    : 1694        \n",
        " Accel Partners           :  523   web     :  254         FRA    : 1572        \n",
        " (Other)                  :86854   (Other) : 1901         (Other):10749        \n",
        " investor_state_code      investor_region        investor_city  \n",
        "        :41542       SF Bay       :23131                :22380  \n",
        " CA     :25142       unknown      :21338   Menlo Park   : 9323  \n",
        " NY     : 5816       New York     : 6142   New York     : 5401  \n",
        " MA     : 4976       Boston       : 4852   Palo Alto    : 4368  \n",
        " IL     : 1284       London       : 2999   San Francisco: 4314  \n",
        " WA     : 1123       Washington DC: 1454   London       : 2742  \n",
        " (Other):10400       (Other)      :30367   (Other)      :41755  \n",
        "      funding_round_type   funded_at      funded_month   funded_quarter \n",
        " series-a      :22480    1/1/12 :  715   2013-10: 1765   2013-Q3: 4741  \n",
        " angel         :19152    1/1/08 :  549   2012-01: 1737   2013-Q4: 4574  \n",
        " venture       :17358    1/1/11 :  522   2013-09: 1684   2013-Q2: 4290  \n",
        " series-c+     :14651    1/1/07 :  521   2013-07: 1584   2014-Q1: 4273  \n",
        " series-b      :13152    1/1/13 :  465   2014-01: 1579   2013-Q1: 4087  \n",
        " private-equity: 1715    1/1/10 :  407   2013-01: 1527   2012-Q2: 3823  \n",
        " (Other)       : 1775    (Other):87104   (Other):80407   (Other):64495  \n",
        "  funded_year    raised_amount_usd\n",
        " Min.   :1974             : 9887  \n",
        " 1st Qu.:2008   10,000,000: 2889  \n",
        " Median :2011   1,000,000 : 2661  \n",
        " Mean   :2010   5,000,000 : 2245  \n",
        " 3rd Qu.:2012   2,000,000 : 1951  \n",
        " Max.   :2014   15,000,000: 1913  \n",
        " NA's   :2      (Other)   :68737  \n"
       ]
      }
     ],
     "prompt_number": 5
    },
    {
     "cell_type": "code",
     "collapsed": false,
     "input": [
      "%%R\n",
      "\n",
      "investments$raised_amount_usd= as.numeric(investments$raised_amount_usd)"
     ],
     "language": "python",
     "metadata": {},
     "outputs": [],
     "prompt_number": 13
    },
    {
     "cell_type": "code",
     "collapsed": false,
     "input": [
      "%%R -w 1000 -h 3000\n",
      "\n",
      "#Amount invested in a company\n",
      "funds_per_company = ddply(investments, .(company_name), summarize, total = sum(raised_amount_usd))\n",
      "funds_per_company = na.omit(funds_per_company)\n"
     ],
     "language": "python",
     "metadata": {},
     "outputs": [],
     "prompt_number": 14
    },
    {
     "cell_type": "code",
     "collapsed": false,
     "input": [
      "%%R\n",
      "\n",
      "print(head(funds_per_company))"
     ],
     "language": "python",
     "metadata": {},
     "outputs": [
      {
       "metadata": {},
       "output_type": "display_data",
       "text": [
        "       company_name total\n",
        "1              ____   650\n",
        "2     .Fox Networks  3397\n",
        "3 'Rock' Your Paper  3411\n",
        "4     [a]list games  5163\n",
        "5             [x+1]  8000\n",
        "6          #waywire  2600\n"
       ]
      }
     ],
     "prompt_number": 15
    },
    {
     "cell_type": "code",
     "collapsed": false,
     "input": [
      "%%R\n",
      "\n",
      "investments_new = aggregate(investments$raised_amount_usd,by=list(investments$company_name), sum)\n",
      "investments_new = na.omit(investments_new)\n",
      "print(head(investments_new))\n"
     ],
     "language": "python",
     "metadata": {},
     "outputs": [
      {
       "output_type": "stream",
       "stream": "stdout",
       "text": [
        "\n",
        "Error while parsing the string.\n"
       ]
      }
     ],
     "prompt_number": 19
    },
    {
     "cell_type": "code",
     "collapsed": false,
     "input": [
      "%%R\n",
      "\n",
      "investments_new1 = ddply(investments, .(company_name), total = sum(raised_amount_usd))\n",
      "investments_new1 = na.omit(investments_new1)\n"
     ],
     "language": "python",
     "metadata": {},
     "outputs": []
    },
    {
     "cell_type": "code",
     "collapsed": false,
     "input": [
      "%%R\n",
      "\n",
      "\n",
      "sort_count = sort(funds_per_company$total, decreasing=TRUE)[1:1000]\n",
      "top1000=subset(funds_per_company,funds_per_company$total %in% sort_count)\n",
      "print(head(top1000))\n",
      "dim(top1000)\n",
      "print(top1000)\n",
      "\n",
      "write.csv(top1000, \"Top1000Companies.csv\")\n",
      "print(dim(top1000))\n",
      "print(length(unique(top1000$company_name)))\n"
     ],
     "language": "python",
     "metadata": {},
     "outputs": [
      {
       "output_type": "stream",
       "stream": "stdout",
       "text": [
        "Error in sort(funds_per_company$total, decreasing = TRUE) : \n",
        "  object 'funds_per_company' not found\n"
       ]
      }
     ],
     "prompt_number": 7
    },
    {
     "cell_type": "code",
     "collapsed": false,
     "input": [],
     "language": "python",
     "metadata": {},
     "outputs": []
    }
   ],
   "metadata": {}
  }
 ]
}