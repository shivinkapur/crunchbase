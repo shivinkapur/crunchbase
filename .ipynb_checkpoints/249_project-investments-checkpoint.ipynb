{
 "metadata": {
  "name": "",
  "signature": "sha256:d3c1ced4983ad6c5152f4e5b046db576dcdf0e46f1de2527c89d43aef62dea60"
 },
 "nbformat": 3,
 "nbformat_minor": 0,
 "worksheets": []
}